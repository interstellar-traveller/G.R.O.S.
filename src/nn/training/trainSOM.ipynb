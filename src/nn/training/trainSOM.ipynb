{
 "cells": [
  {
   "cell_type": "code",
   "execution_count": 3,
   "metadata": {},
   "outputs": [],
   "source": [
    "import numpy as np"
   ]
  },
  {
   "cell_type": "code",
   "execution_count": 5,
   "metadata": {},
   "outputs": [],
   "source": [
    "def relu(x):\n",
    "    \"\"\"Activation Function\"\"\"\n",
    "    x = (np.abs(x) + x) / 2.0\n",
    "    return x"
   ]
  },
  {
   "cell_type": "code",
   "execution_count": 7,
   "metadata": {},
   "outputs": [],
   "source": [
    "def normalization(M):\n",
    "    \"\"\"normalize a row vector\n",
    "    \n",
    "    Args:\n",
    "        M (np.array): row vector\n",
    "    \"\"\"\n",
    "    M = M/(np.sqrt(np.dot(M,M.T)))\n",
    "    return M"
   ]
  },
  {
   "cell_type": "code",
   "execution_count": 9,
   "metadata": {},
   "outputs": [
    {
     "name": "stdout",
     "output_type": "stream",
     "text": [
      "[0.13483997 0.26967994 0.40451992 0.53935989 0.67419986]\n"
     ]
    }
   ],
   "source": [
    "# test func:normalization\n",
    "a = [1,2,3,4,5]\n",
    "print(normalization(np.array(a)))"
   ]
  },
  {
   "cell_type": "code",
   "execution_count": 10,
   "metadata": {},
   "outputs": [],
   "source": [
    "def normalization_all(N):\n",
    "    \"\"\"Normalize the whole matrix\n",
    "\n",
    "    Args:\n",
    "        N (np.array): matrix before normalization\n",
    "\n",
    "    Returns:\n",
    "        N_all (np.array): matrix after normalization\n",
    "    \"\"\"\n",
    "    N_all=[]\n",
    "    for i in range(len(N)):   #len(N)：number of rows in N\n",
    "        K = normalization(N[i])\n",
    "        N_all.append(K)\n",
    "    return N_all"
   ]
  },
  {
   "cell_type": "code",
   "execution_count": null,
   "metadata": {},
   "outputs": [],
   "source": [
    "b = [[1,2,3], [4,5,6]]\n",
    "print(normalization_all(b))"
   ]
  }
 ],
 "metadata": {
  "interpreter": {
   "hash": "9124c0b2427cc4ed81e035d6ac452e426874e83c5ff0c18bcecf8ae4e49f745a"
  },
  "kernelspec": {
   "display_name": "Python 3.6.13 64-bit ('ml': conda)",
   "name": "python3"
  },
  "language_info": {
   "codemirror_mode": {
    "name": "ipython",
    "version": 3
   },
   "file_extension": ".py",
   "mimetype": "text/x-python",
   "name": "python",
   "nbconvert_exporter": "python",
   "pygments_lexer": "ipython3",
   "version": "3.6.13"
  },
  "orig_nbformat": 4
 },
 "nbformat": 4,
 "nbformat_minor": 2
}
